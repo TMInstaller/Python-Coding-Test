{
 "cells": [
  {
   "cell_type": "code",
   "execution_count": 3,
   "metadata": {},
   "outputs": [
    {
     "name": "stdout",
     "output_type": "stream",
     "text": [
      "6\n"
     ]
    }
   ],
   "source": [
    "# 예제 3-1 : 거스름돈\n",
    "# 당신은 음식점의 계산을 도와주는 점원이다.\n",
    "# 카운터에는 거스름돈으로 사용할 500원, 100원, 50원, 10원짜리 동전이 무한히 존재한다고 가정한다\n",
    "# 손님에게 거슬러 줘야 할 돈이 N원일 때 거슬러 줘야 할 동전의 최소 개수를 구하라\n",
    "\n",
    "n = 1260\n",
    "count = 0\n",
    "\n",
    "# 큰 단위의 화폐부터 차례대로 확인\n",
    "coin_types = [500, 100, 50, 10]\n",
    "\n",
    "for coin in coin_types:\n",
    "  count += n // coin # 해당 화폐로 거슬러 줄 수 있는 동전의 개수 세기\n",
    "  n %= coin\n",
    "\n",
    "print(count)"
   ]
  },
  {
   "cell_type": "code",
   "execution_count": 3,
   "metadata": {},
   "outputs": [
    {
     "name": "stdout",
     "output_type": "stream",
     "text": [
      "46\n"
     ]
    }
   ],
   "source": [
    "# 예제 3-2 : 큰 수의 법칙\n",
    "# '큰 수의 법칙'은 일반적으로 통계 분야에서 다루어지는 내용이지만 동빈이는 본인만의 방식으로 다르게 사용하고 있다.\n",
    "# 동빈이의 큰 수의 법칙은 다양한 수로 이루어진 배열이 있을 때 주어진 수들을 M번 더하여 아장 큰 수를 만드는 법칙이다.\n",
    "# 단, 배열의 특정한 인덱스(번호)에 해당하는 수가 연속해서 K번을 초과하여 더해질 수 없는 것이 이 법칙의 특징이다.\n",
    "# 예를들어 순서대로 2, 4, 5, 4, 6으로 이루어진 배열이 있을 때 M이 8이고, K가 3이라고 가정하자.\n",
    "# 이 경우 특정한 인덱스의 수가 연속해서 세 번까지만 더해질 수 있으므로 큰 수의 법칙에 따른 결과는 \n",
    "# 6+6+6+5+6+6+6인 46이 된다\n",
    "# 단. 서로 다른 인덱스에 해당하는 수가 같은 경우에도 서로 다른 것으로 간주한다.\n",
    "# 예를들어 순서대로 3, 4, 3, 4, 3으로 이루어진 배열이 있을 때 M이 7이고, K가 2라고 가정하자.\n",
    "# 이 경우 두 번째 원소에 해당하는 4와 네 번째 원소에 해당하는 4를 번갈아 두 번씩 더하는 것이 가능하다.\n",
    "# 결과적으로 4+4+4+4+4+4+4인 28이 도출된다\n",
    "# 배열의 크기 N, 숫자가 더해지는 횟수 M, 그리고 K가 주어질 때 동빈이의 큰 수의 법칙에 따른 결과를 출력하시오 \n",
    "\n",
    "# N, M, K를 공백으로 구분하여 입력받기\n",
    "n, m, k = map(int, input().split())\n",
    "# N개의 수를 공백으로 구분하여 입력받기\n",
    "data = list(map(int, input().split()))\n",
    "\n",
    "data.sort() # 입력받은 수ㄹ 정렬하기\n",
    "first = data[n-1] # 가장 큰 수\n",
    "second = data[n-2] # 두 번째로 큰 수\n",
    "\n",
    "result = 0\n",
    "\n",
    "while True:\n",
    "  for i in range(k): # 가장 큰 수를 K번 더하기\n",
    "    if m == 0:\n",
    "      break\n",
    "    result += first\n",
    "    m -= 1 # 더할 때마다 1씩 빼기\n",
    "  if m == 0: # m이 0이라면 반복문 탈출\n",
    "    break\n",
    "  result += second # 두 번째로 큰 수를 한 번 더하기\n",
    "  m -= 1 # 더할 때마다 1씩 빼기\n",
    "\n",
    "print(result) # 최종 답안 출력\n"
   ]
  }
 ],
 "metadata": {
  "kernelspec": {
   "display_name": "Python 3",
   "language": "python",
   "name": "python3"
  },
  "language_info": {
   "codemirror_mode": {
    "name": "ipython",
    "version": 3
   },
   "file_extension": ".py",
   "mimetype": "text/x-python",
   "name": "python",
   "nbconvert_exporter": "python",
   "pygments_lexer": "ipython3",
   "version": "3.8.16"
  },
  "orig_nbformat": 4,
  "vscode": {
   "interpreter": {
    "hash": "b03318ed35f08d1f192fa4ba4b02a9cd8cc22f4ca9b9e488f0e3295a69ef5dd0"
   }
  }
 },
 "nbformat": 4,
 "nbformat_minor": 2
}
